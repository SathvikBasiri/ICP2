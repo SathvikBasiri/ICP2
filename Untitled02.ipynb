{
  "cells": [
    {
      "cell_type": "markdown",
      "metadata": {
        "id": "view-in-github",
        "colab_type": "text"
      },
      "source": [
        "<a href=\"https://colab.research.google.com/github/SathvikBasiri/ICP2/blob/main/Untitled02.ipynb\" target=\"_parent\"><img src=\"https://colab.research.google.com/assets/colab-badge.svg\" alt=\"Open In Colab\"/></a>"
      ]
    },
    {
      "cell_type": "code",
      "execution_count": 5,
      "id": "aa0d3eb9",
      "metadata": {
        "id": "aa0d3eb9"
      },
      "outputs": [],
      "source": [
        "def Full_name(first_name=\"first name\",last_name='last name'):\n",
        "    return first_name+' '+last_name"
      ]
    },
    {
      "cell_type": "code",
      "execution_count": 6,
      "id": "bd639e63",
      "metadata": {
        "colab": {
          "base_uri": "https://localhost:8080/"
        },
        "id": "bd639e63",
        "outputId": "0cbf442e-b8a5-4fb7-ce0c-2b233a098281"
      },
      "outputs": [
        {
          "output_type": "stream",
          "name": "stdout",
          "text": [
            "Enter your first name:/nSathvik\n",
            "Enter your last name:/nBasiri\n",
            "Sathvik Basiri\n"
          ]
        }
      ],
      "source": [
        "first_name=input(\"Enter your first name:/n\")\n",
        "last_name=input(\"Enter your last name:/n\")\n",
        "full_name=Full_name(first_name,last_name)\n",
        "print(full_name)"
      ]
    },
    {
      "cell_type": "code",
      "execution_count": 7,
      "id": "f02eadf1",
      "metadata": {
        "colab": {
          "base_uri": "https://localhost:8080/"
        },
        "id": "f02eadf1",
        "outputId": "93e78be2-95ae-4966-b1b4-bf7430ad1bbf"
      },
      "outputs": [
        {
          "output_type": "stream",
          "name": "stdout",
          "text": [
            "Go vnn\n"
          ]
        }
      ],
      "source": [
        "def string_alternative(string):\n",
        "    o=''\n",
        "    for i in range(0,len(string)):\n",
        "        if(i%2==0):\n",
        "            o=o+string[i]\n",
        "    return o\n",
        "if __name__=='__main__':\n",
        "    print(string_alternative(\"Good evening\"))"
      ]
    },
    {
      "cell_type": "code",
      "execution_count": null,
      "id": "92146fd1",
      "metadata": {
        "scrolled": true,
        "id": "92146fd1",
        "outputId": "08c0ed57-07ab-45df-dc3c-42963d9d6d94"
      },
      "outputs": [
        {
          "name": "stdout",
          "output_type": "stream",
          "text": [
            "Python:1\n",
            "Course:2\n",
            "Deep:1\n",
            "Learning:1\n",
            "\n"
          ]
        }
      ],
      "source": [
        "with open('input_file.txt','r') as ipf:\n",
        "    line=ipf.read()\n",
        "    word=line.split()\n",
        "    check=[]\n",
        "    with open('output_file.txt','w') as opf:\n",
        "        for i in word:\n",
        "            if i not in check:\n",
        "                check.append(i)\n",
        "                opf.write(i+':'+str(word.count(i))+'\\n')\n",
        "opf=open('output_file.txt','r')\n",
        "print(opf.read())\n"
      ]
    },
    {
      "cell_type": "code",
      "execution_count": null,
      "id": "35970349",
      "metadata": {
        "id": "35970349",
        "outputId": "2c9a4dc9-da5e-47cd-917b-e2383c2708e4"
      },
      "outputs": [
        {
          "name": "stdout",
          "output_type": "stream",
          "text": [
            "47\n",
            "24\n",
            "68.03\n",
            "70.03\n",
            "0\n"
          ]
        }
      ],
      "source": [
        "heights=[]\n",
        "while True:\n",
        "    x=float(input())\n",
        "    if(x<=0):\n",
        "        break\n",
        "    heights.append(x)#this is in inches"
      ]
    },
    {
      "cell_type": "code",
      "execution_count": null,
      "id": "f1dc4867",
      "metadata": {
        "id": "f1dc4867",
        "outputId": "d08732cc-c376-46b7-a268-e46e4294d343"
      },
      "outputs": [
        {
          "name": "stdout",
          "output_type": "stream",
          "text": [
            "[119.38, 60.96, 172.7962, 177.8762]\n"
          ]
        }
      ],
      "source": [
        "output=[x*2.54 for x in heights]\n",
        "print(output)#this is in cm"
      ]
    },
    {
      "cell_type": "code",
      "execution_count": null,
      "id": "c958c368",
      "metadata": {
        "id": "c958c368"
      },
      "outputs": [],
      "source": []
    }
  ],
  "metadata": {
    "kernelspec": {
      "display_name": "Python 3 (ipykernel)",
      "language": "python",
      "name": "python3"
    },
    "language_info": {
      "codemirror_mode": {
        "name": "ipython",
        "version": 3
      },
      "file_extension": ".py",
      "mimetype": "text/x-python",
      "name": "python",
      "nbconvert_exporter": "python",
      "pygments_lexer": "ipython3",
      "version": "3.9.7"
    },
    "colab": {
      "provenance": [],
      "toc_visible": true,
      "include_colab_link": true
    }
  },
  "nbformat": 4,
  "nbformat_minor": 5
}